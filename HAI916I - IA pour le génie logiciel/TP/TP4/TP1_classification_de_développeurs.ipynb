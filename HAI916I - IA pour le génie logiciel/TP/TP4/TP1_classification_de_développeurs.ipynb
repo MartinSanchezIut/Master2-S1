{
  "cells": [
    {
      "cell_type": "markdown",
      "source": [
        "# Qu'allons nous faire dans ce TP ? 🏗\n",
        "\n",
        "Ce TP est là pour vous montrer que des problématiques GL peuvent être en partie solutionnées par des solutions d'IA. Un exemple d'IA pour le GL que vous connaissez sûrement est [Github CoPilot](https://github.com/features/copilot/) (suggestion de code basée sur des exemples Github). Ainsi, ce premier TP va vous montrer comment prédire le nombre de développeurs expérimenté pour un projet en fonction de la taille de ce dernier. Cet exemple est issu de nos travaux de recherche, la référence du papier de recherche est ici : \n",
        "\n",
        "\n",
        "\n",
        "*   *Quentin Perez, Christelle Urtado, Sylvain Vauttier. Mining Experienced Developers in Open-source Projects. ENASE 2022 - 17th International Conference on Evaluation of Novel Approaches to Software Engineering, Apr 2022, Online, France. pp.443-452*\n",
        "*   URL vers le papier: [https://hal.mines-ales.fr/hal-03654959/document](https://hal.mines-ales.fr/hal-03654959/document)\n",
        "\n",
        "\n",
        "Nous ferons également un peu de *data science*/statistiques pour vous montrer au travers de deux petits exemples à quoi cela peut servir.\n",
        "Cependant attention, l'IA 🤖 n'est pas non plus Merlin l'Enchanteur 🧙 et ne peut donc pas aller au-delà de ses capacités. Elle est fortement dépendante du type d'apprentissage, de la méthode d'apprentissage et des données d'entrées. "
      ],
      "metadata": {
        "id": "JN0T92xSMGY0"
      }
    },
    {
      "cell_type": "markdown",
      "source": [
        "# Prérequis pour l'utilisation du notebook Colab **📦**"
      ],
      "metadata": {
        "id": "Yfymgkt98NWH"
      }
    },
    {
      "cell_type": "markdown",
      "source": [
        "## ⚠ AVANT TOUTES MANIPULATIONS : FAIRE UNE COPIE DE CE NOTEBOOK COLAB DANS VOTRE ESPACE GOOGLE\n",
        "\n",
        "Pour ce faire aller sur le menu \"Fichier\" puis \"Enregistrer une copie dans Drive\""
      ],
      "metadata": {
        "id": "SWxer9RZN6dg"
      }
    },
    {
      "cell_type": "markdown",
      "source": [
        "\n",
        "## Création de dossiers sur votre Google Drive\n",
        "\n",
        "⚠ Vous devez impérativement créer à la racine de votre Google Drive le dossier \"`TP_IAGL`\" puis à l'intérieur de celui-ci créer les dossiers \"`ck_metrics`\" et \"`metrics_by_dev`\"."
      ],
      "metadata": {
        "id": "uqturraVTQB3"
      }
    },
    {
      "cell_type": "markdown",
      "source": [
        "## Montage de votre Google Drive sur l'instance Colab\n",
        "\n",
        "💾 La cellule *de* code plus bas va vous permettre de vous connecter à votre Google Drive afin de sauvegarder l'ensemble des éléments manipulés dans ce TP. Le lien pour accéder au dossier \"`TP_IAGL`\" sera <code>/content/drive/MyDrive/TP_GLIA</code> "
      ],
      "metadata": {
        "id": "mLfwx6GFUN29"
      }
    },
    {
      "cell_type": "code",
      "source": [
        "from google.colab import drive\n",
        "drive.mount('/content/drive')"
      ],
      "metadata": {
        "id": "FJJAoVyZPHZb",
        "colab": {
          "base_uri": "https://localhost:8080/"
        },
        "outputId": "69c3c8a1-2b0f-4364-8ae1-9c18d4f59d3f"
      },
      "execution_count": 1,
      "outputs": [
        {
          "output_type": "stream",
          "name": "stdout",
          "text": [
            "Mounted at /content/drive\n"
          ]
        }
      ]
    },
    {
      "cell_type": "markdown",
      "source": [
        "## Installation des bibliothèques et téléchargement des fichiers"
      ],
      "metadata": {
        "id": "RlcFnBw-8e4P"
      }
    },
    {
      "cell_type": "markdown",
      "source": [
        "Nous avons besoin de GitPython afin de manipuler des dépôts Git avec Python. La commande Colab ci dessous permet de l'installer. "
      ],
      "metadata": {
        "id": "0RjVCo4vLIKU"
      }
    },
    {
      "cell_type": "code",
      "source": [
        "!pip install gitpython"
      ],
      "metadata": {
        "id": "_Dy2AwjZK8Fp",
        "colab": {
          "base_uri": "https://localhost:8080/"
        },
        "outputId": "a90a4b00-4978-4840-ec58-9a7dbfd1ce9a"
      },
      "execution_count": 2,
      "outputs": [
        {
          "output_type": "stream",
          "name": "stdout",
          "text": [
            "Looking in indexes: https://pypi.org/simple, https://us-python.pkg.dev/colab-wheels/public/simple/\n",
            "Collecting gitpython\n",
            "  Downloading GitPython-3.1.29-py3-none-any.whl (182 kB)\n",
            "\u001b[K     |████████████████████████████████| 182 kB 6.2 MB/s \n",
            "\u001b[?25hCollecting gitdb<5,>=4.0.1\n",
            "  Downloading gitdb-4.0.10-py3-none-any.whl (62 kB)\n",
            "\u001b[K     |████████████████████████████████| 62 kB 970 kB/s \n",
            "\u001b[?25hRequirement already satisfied: typing-extensions>=3.7.4.3 in /usr/local/lib/python3.7/dist-packages (from gitpython) (4.1.1)\n",
            "Collecting smmap<6,>=3.0.1\n",
            "  Downloading smmap-5.0.0-py3-none-any.whl (24 kB)\n",
            "Installing collected packages: smmap, gitdb, gitpython\n",
            "Successfully installed gitdb-4.0.10 gitpython-3.1.29 smmap-5.0.0\n"
          ]
        }
      ]
    },
    {
      "cell_type": "markdown",
      "source": [
        "Récupération des différents fichiers de données nécessaires au TP depuis Github en utilisant wget."
      ],
      "metadata": {
        "id": "G8Pz3YBqLNsL"
      }
    },
    {
      "cell_type": "code",
      "source": [
        "!wget -N https://github.com/qperez/TP-Master-MTP-GL-IA4GL/raw/main/ck_metrics/ck.jar -P /content/drive/MyDrive/TP_GLIA/ck_metrics\n",
        "!wget -N https://github.com/qperez/TP-Master-MTP-GL-IA4GL/raw/main/classifier_rf.pkl -P /content/drive/MyDrive/TP_GLIA/\n",
        "!wget -N https://raw.githubusercontent.com/qperez/TP-Master-MTP-GL-IA4GL/main/dataset_dev_anonymized.csv -P /content/drive/MyDrive/TP_GLIA\n",
        "!wget -N https://raw.githubusercontent.com/qperez/TP-Master-MTP-GL-IA4GL/main/ck_metrics/class_broadleaf-1.6.0-GA.csv -P /content/drive/MyDrive/TP_GLIA/ck_metrics\n",
        "!wget -N https://raw.githubusercontent.com/qperez/TP-Master-MTP-GL-IA4GL/main/ck_metrics/class_broadleaf-2.0.0-GA.csv -P /content/drive/MyDrive/TP_GLIA/ck_metrics\n",
        "!wget -N https://raw.githubusercontent.com/qperez/TP-Master-MTP-GL-IA4GL/main/ck_metrics/class_broadleaf-2.1.0-GA.csv -P /content/drive/MyDrive/TP_GLIA/ck_metrics\n",
        "!wget -N https://raw.githubusercontent.com/qperez/TP-Master-MTP-GL-IA4GL/main/ck_metrics/class_broadleaf-2.2.0-GA.csv -P /content/drive/MyDrive/TP_GLIA/ck_metrics\n",
        "!wget -N https://raw.githubusercontent.com/qperez/TP-Master-MTP-GL-IA4GL/main/ck_metrics/class_broadleaf-2.3.0-GA.csv -P /content/drive/MyDrive/TP_GLIA/ck_metrics\n",
        "!wget -N https://raw.githubusercontent.com/qperez/TP-Master-MTP-GL-IA4GL/main/ck_metrics/class_broadleaf-2.4.0-GA.csv -P /content/drive/MyDrive/TP_GLIA/ck_metrics\n",
        "!wget -N https://raw.githubusercontent.com/qperez/TP-Master-MTP-GL-IA4GL/main/ck_metrics/class_broadleaf-3.0.0-GA.csv -P /content/drive/MyDrive/TP_GLIA/ck_metrics\n",
        "!wget -N https://raw.githubusercontent.com/qperez/TP-Master-MTP-GL-IA4GL/main/ck_metrics/class_broadleaf-3.1.0-GA.csv -P /content/drive/MyDrive/TP_GLIA/ck_metrics\n",
        "!wget -N https://raw.githubusercontent.com/qperez/TP-Master-MTP-GL-IA4GL/main/ck_metrics/class_broadleaf-4.0.0-GA.csv -P /content/drive/MyDrive/TP_GLIA/ck_metrics\n",
        "!wget -N https://raw.githubusercontent.com/qperez/TP-Master-MTP-GL-IA4GL/main/ck_metrics/class_broadleaf-4.1.0-GA.csv -P /content/drive/MyDrive/TP_GLIA/ck_metrics\n",
        "!wget -N https://raw.githubusercontent.com/qperez/TP-Master-MTP-GL-IA4GL/main/ck_metrics/class_broadleaf-5.0.0-GA.csv -P /content/drive/MyDrive/TP_GLIA/ck_metrics\n",
        "!wget -N https://raw.githubusercontent.com/qperez/TP-Master-MTP-GL-IA4GL/main/ck_metrics/class_broadleaf-5.1.0-GA.csv -P /content/drive/MyDrive/TP_GLIA/ck_metrics\n",
        "!wget -N https://raw.githubusercontent.com/qperez/TP-Master-MTP-GL-IA4GL/main/metrics_by_dev/broadleaf-1.5.0-GA_broadleaf-1.6.0-GA_aggregated.csv -P /content/drive/MyDrive/TP_GLIA/metrics_by_dev\n",
        "!wget -N https://raw.githubusercontent.com/qperez/TP-Master-MTP-GL-IA4GL/main/metrics_by_dev/broadleaf-1.5.0-GA_broadleaf-2.0.0-GA_aggregated.csv -P /content/drive/MyDrive/TP_GLIA/metrics_by_dev\n",
        "!wget -N https://raw.githubusercontent.com/qperez/TP-Master-MTP-GL-IA4GL/main/metrics_by_dev/broadleaf-1.5.0-GA_broadleaf-2.1.0-GA_aggregated.csv -P /content/drive/MyDrive/TP_GLIA/metrics_by_dev\n",
        "!wget -N https://raw.githubusercontent.com/qperez/TP-Master-MTP-GL-IA4GL/main/metrics_by_dev/broadleaf-1.5.0-GA_broadleaf-2.2.0-GA_aggregated.csv -P /content/drive/MyDrive/TP_GLIA/metrics_by_dev\n",
        "!wget -N https://raw.githubusercontent.com/qperez/TP-Master-MTP-GL-IA4GL/main/metrics_by_dev/broadleaf-1.5.0-GA_broadleaf-2.3.0-GA_aggregated.csv -P /content/drive/MyDrive/TP_GLIA/metrics_by_dev\n",
        "!wget -N https://raw.githubusercontent.com/qperez/TP-Master-MTP-GL-IA4GL/main/metrics_by_dev/broadleaf-1.5.0-GA_broadleaf-2.4.0-GA_aggregated.csv -P /content/drive/MyDrive/TP_GLIA/metrics_by_dev\n",
        "!wget -N https://raw.githubusercontent.com/qperez/TP-Master-MTP-GL-IA4GL/main/metrics_by_dev/broadleaf-1.5.0-GA_broadleaf-3.0.0-GA_aggregated.csv -P /content/drive/MyDrive/TP_GLIA/metrics_by_dev\n",
        "!wget -N https://raw.githubusercontent.com/qperez/TP-Master-MTP-GL-IA4GL/main/metrics_by_dev/broadleaf-1.5.0-GA_broadleaf-3.1.0-GA_aggregated.csv -P /content/drive/MyDrive/TP_GLIA/metrics_by_dev\n",
        "!wget -N https://raw.githubusercontent.com/qperez/TP-Master-MTP-GL-IA4GL/main/metrics_by_dev/broadleaf-1.5.0-GA_broadleaf-4.0.0-GA_aggregated.csv -P /content/drive/MyDrive/TP_GLIA/metrics_by_dev\n",
        "!wget -N https://raw.githubusercontent.com/qperez/TP-Master-MTP-GL-IA4GL/main/metrics_by_dev/broadleaf-1.5.0-GA_broadleaf-4.1.0-GA_aggregated.csv -P /content/drive/MyDrive/TP_GLIA/metrics_by_dev\n",
        "!wget -N https://raw.githubusercontent.com/qperez/TP-Master-MTP-GL-IA4GL/main/metrics_by_dev/broadleaf-1.5.0-GA_broadleaf-5.0.0-GA_aggregated.csv -P /content/drive/MyDrive/TP_GLIA/metrics_by_dev\n",
        "!wget -N https://raw.githubusercontent.com/qperez/TP-Master-MTP-GL-IA4GL/main/metrics_by_dev/broadleaf-1.5.0-GA_broadleaf-5.1.0-GA_aggregated.csv -P /content/drive/MyDrive/TP_GLIA/metrics_by_dev\n",
        "!wget -N https://raw.githubusercontent.com/qperez/TP-Master-MTP-GL-IA4GL/main/metrics_by_dev/broadleaf-1.5.0-GA_broadleaf-5.2.0-GA_aggregated.csv -P /content/drive/MyDrive/TP_GLIA/metrics_by_dev\n",
        "!wget -N https://raw.githubusercontent.com/qperez/TP-Master-MTP-GL-IA4GL/main/metrics_by_dev/broadleaf-1.5.0-GA_broadleaf-6.0.0-GA_aggregated.csv -P /content/drive/MyDrive/TP_GLIA/metrics_by_dev\n",
        "!wget -N https://raw.githubusercontent.com/qperez/TP-Master-MTP-GL-IA4GL/main/metrics_by_dev/broadleaf-1.5.0-GA_broadleaf-6.1.0-GA_aggregated.csv -P /content/drive/MyDrive/TP_GLIA/metrics_by_dev\n"
      ],
      "metadata": {
        "id": "rM9TbbS4Dox9"
      },
      "execution_count": null,
      "outputs": []
    },
    {
      "cell_type": "markdown",
      "source": [
        "Import des lib nécessaires au Notebook."
      ],
      "metadata": {
        "id": "_DAOxOMjDTyj"
      }
    },
    {
      "cell_type": "code",
      "execution_count": 3,
      "metadata": {
        "id": "dhNhJ5IqDeVS"
      },
      "outputs": [],
      "source": [
        "import pickle\n",
        "import numpy as np\n",
        "import pandas as pd\n",
        "import seaborn as sns\n",
        "from imblearn.over_sampling import KMeansSMOTE\n",
        "from sklearn.metrics import f1_score, recall_score, precision_score, classification_report, balanced_accuracy_score\n",
        "from sklearn.model_selection import StratifiedKFold\n",
        "from sklearn.ensemble import RandomForestClassifier\n",
        "from sklearn.preprocessing import MinMaxScaler\n",
        "from sklearn.ensemble import RandomForestClassifier\n",
        "from sklearn.linear_model import LinearRegression\n",
        "import glob\n",
        "import joblib\n",
        "from collections import Counter\n",
        "\n",
        "import os\n",
        "import re\n",
        "import subprocess\n",
        "import glob\n",
        "from git import Repo, Git\n",
        "\n",
        "from matplotlib import pyplot as plt"
      ]
    },
    {
      "cell_type": "markdown",
      "metadata": {
        "pycharm": {
          "name": "#%% md\n"
        },
        "id": "wFlp_rAPDeVV"
      },
      "source": [
        "## Exécution des cellules nécessaires au TP\n",
        "\n",
        "Fonction permettant de supprimer les colonnes inutiles dans le jeu de données de développeurs."
      ]
    },
    {
      "cell_type": "code",
      "execution_count": 4,
      "metadata": {
        "pycharm": {
          "name": "#%%\n"
        },
        "id": "AR2WqrSIDeVZ"
      },
      "outputs": [],
      "source": [
        "# Prend un dataframe Pandas en paramètre\n",
        "def delete_unused_columns(df):\n",
        "    columns_to_drop = [\"name\", \"followers\", \"commit_count_a\", \"source\", \"job\", \"name_without_spaces\", \"from\", \"to\",\n",
        "                       \"project\", \"index\", \"AddSM\",\"DelSM\",\"ChurnSM\",\"SumAddDelSM\",\"SumAddDel\"]\n",
        "\n",
        "    for column_to_drop in columns_to_drop:\n",
        "        if column_to_drop in df.columns :\n",
        "            df.drop(columns=[column_to_drop], inplace=True)\n",
        "\n",
        "    df[\"DiP\"] = df[\"DiP\"].round()"
      ]
    },
    {
      "cell_type": "markdown",
      "metadata": {
        "id": "Bj97pwxNDeVa"
      },
      "source": [
        "Fonction permettant d'appliquer un logarithme les colonnes du jeu de données de développeurs.\n"
      ]
    },
    {
      "cell_type": "code",
      "execution_count": 5,
      "metadata": {
        "pycharm": {
          "name": "#%%\n"
        },
        "id": "jgowxyxgDeVc"
      },
      "outputs": [],
      "source": [
        "# Prend un dataframe Pandas en paramètre\n",
        "def log_dataframe(df):\n",
        "\n",
        "    columns_4_log = [\"SumAddDelLOC\", \"DiP\", \"NoC\", \"SumAddDelF\",\n",
        "                     \"SumAddDelSAM\", \"AddLOC\", \"DelLOC\", \"AddSAM\", \"DelSAM\"]\n",
        "\n",
        "    for column in columns_4_log:\n",
        "        df[column] = np.log(df[column] + 1)"
      ]
    },
    {
      "cell_type": "markdown",
      "source": [
        "---\n",
        "# Début du TP 🚀"
      ],
      "metadata": {
        "id": "qa1oWllQQ8Jd"
      }
    },
    {
      "cell_type": "markdown",
      "metadata": {
        "id": "7SAv7l8HDeVe"
      },
      "source": [
        "## 1) Récupération des métriques de BroadleafCommerce 🧲\n",
        "\n",
        "Nous travaillerons avec les versions majeures et mineures (voir [semantic versioning](https://semver.org/lang/fr/)) du projet BroadleafCommerce disponible sur GitHub : [https://github.com/BroadleafCommerce/BroadleafCommerce](https://github.com/BroadleafCommerce/BroadleafCommerce). Pour cela, nous allons cloner le dépôt puis récupérer les tags des versions et les filtrer par une expression régulière. Puis, pour chacun de ces tags, \"checkouter\" la version correspondante. Nous lancerons ensuite l'extraction des métriques à l'aide de l'application Java : ck ([https://github.com/mauricioaniche/ck](https://github.com/mauricioaniche/ck)). Cette application créée par Maurício Aniche est dédiée à l'extraction de plusieurs métriques logicielles dont le nombre de lignes de code que nous utiliserons plus tard. \n",
        "\n",
        "Dans ce TP, nous allons extraire \"manuellement\" métriques mais, les plateformes d'intégration continue comme Jenkins ou les outils d'analyse statique comme SonarQube permettent de calculer des métriques de manière automatique à chaque version releasée ou commitée sur votre système de gestion de versions. \n",
        "\n",
        "\n",
        "Pour notre cas d'étude, nous allons : \n",
        "\n",
        "1. Utiliser le package GitPython et sa [documentation](https://gitpython.readthedocs.io/en/stable/)) pour :\n",
        "\n",
        "* Cloner le dépôt Github de BroadleafCommerce à l'endroit indiqué par la variable <code> PATH_TO_REPO </code> à l'aide de la méthode <code> Repo.clone_from </code>\n",
        "* Créer un objet <code> Repo </code> qui vous permettra de récupérer les tags des versions\n",
        "* Créer un objet <code> Git </code> qui vous permettra de \"checkouter\" la version désirée\n",
        "\n",
        "2. Récupérer la liste des tags du dépôt à l'aide de l'objet <code> Repo </code>.\n",
        "\n",
        "3. Itérer sur la liste des tags, où pour chaque tag vous allez : \n",
        "\n",
        "* Vérifier par une regexp que l'on se situe sur des tags ayant la forme <code> broadleaf-X-Y-0-GA </code> où <code> X </code> et <code> Y </code> peuvent varier entre 0 et 9 et où le tag a une taille fixe (utilisation de ^ et $ pour matérialiser le début et la fin de chaine de caractères)\n",
        "* Exclure les version <code>1.5.0</code> et <code>6.2.0</code>, nous n'en aurons pas besoin dans ce TP.\n",
        "* Vérifier que l'on ne va pas extraire les métriques d'une version déjà présente dans le dossier <code> ck_metrics </code>\n",
        "* **/!\\ Une fois ces vérifications effectuées,** checkouter la version désirée à l'aide du tag\n",
        "* Lancer l'extraction des métriques à l'aide de l'instruction Colab suivante : <code> !java -jar /content/drive/MyDrive/TP_GLIA/ck_metrics/ck.jar /content/BroadleafCommerce false 0 false </code>\n",
        "* Renommer le fichier <code> class.csv </code> en <code> class_[tag].csv </code> et supprimer le fichier <code>method.csv</code> créés par ck. \n",
        "\n",
        "**Il est normal que le processus d'extraction prenne une dizaine de minutes car nous analysons l'ensemble des fichiers Java de chaque version du projet. N'hésitez pas à printer pour connaitre l'opération actuellement effectuée**"
      ]
    },
    {
      "cell_type": "code",
      "execution_count": 6,
      "metadata": {
        "id": "C1SBvDXuDeVg",
        "colab": {
          "base_uri": "https://localhost:8080/"
        },
        "outputId": "949d15fa-82d3-41e4-f6f3-de8f3f7c561f"
      },
      "outputs": [
        {
          "output_type": "stream",
          "name": "stdout",
          "text": [
            "[]\n"
          ]
        }
      ],
      "source": [
        "PATH_TO_REPO = \"/content/BroadleafCommerce\" # Ne pas modifier cette URL\n",
        "\n",
        "# Nous stockons les fichiers de code de BroadleafCommerce directement sur le disque de l'instance colab\n",
        "# et pas sur le Drive Google pour des questions d'espace disque mais surtout de temps de\n",
        "# calcul avec CK. CK fait de nombreuses opérations de lecture ce qui est extrêmment couteux \n",
        "# à faire directemment sur le point de montage du Drive Google.\n",
        "\n",
        "#Créer les objets Git et repo ici avant l'instruction change directory\n",
        "repo = Repo.clone_from(\"https://github.com/BroadleafCommerce/BroadleafCommerce\", PATH_TO_REPO)\n",
        "# repo = Repo(PATH_TO_REPO) \n",
        "git = repo.git\n",
        "\n",
        "tags = repo.tags\n",
        "regex = re.compile(\"^broadleaf-[0-9]\\.[0-9]\\.0-GA$\")\n",
        "\n",
        "alreadyKnownVersions = os.listdir(\"/content/drive/MyDrive/TP_GLIA/ck_metrics\")\n",
        "unknownVersions = []\n",
        "\n",
        "for tag in tags: \n",
        "  if re.search(regex, str(tag)):\n",
        "    if str(tag) != \"broadleaf-1.5.0-GA\" and str(tag) != \"broadleaf-6.2.0-GA\":\n",
        "      if (\"class_\"+str(tag)+\".csv\") not in alreadyKnownVersions:\n",
        "        # print(tag) \n",
        "        unknownVersions.append(tag)\n",
        "\n",
        "print(unknownVersions)\n",
        "\n",
        "wd_notebook = os.getcwd()\n",
        "os.chdir(\"/content/drive/MyDrive/TP_GLIA/ck_metrics\")\n",
        "\n",
        "#Placer l'ensemble du code nécessaire à l'extraction ici\n",
        "for ver in unknownVersions:\n",
        "  print(\"Checkout dans : \" + str(ver))\n",
        "  git.checkout(ver)\n",
        "  !java -jar /content/drive/MyDrive/TP_GLIA/ck_metrics/ck.jar /content/BroadleafCommerce false 0 false\n",
        "  os.rename('class.csv', 'class_'+str(ver)+'.csv')\n",
        "  print(\"  done.\")\n",
        "\n",
        "\n",
        "# os.remove(\"method.csv\")\n",
        "os.chdir(wd_notebook)"
      ]
    },
    {
      "cell_type": "markdown",
      "source": [
        "---"
      ],
      "metadata": {
        "id": "50NacSGA9pRE"
      }
    },
    {
      "cell_type": "markdown",
      "metadata": {
        "id": "6hmNhY_PDeVj"
      },
      "source": [
        "## 2) Utilisation du classifieur de développeurs (Random Forest 🌲)\n",
        " \n",
        "Nous allons maintenant utiliser le classifieur de développeurs sauvegardé sous le nom \"classifier_rf.pkl\" dont le chemin d'accès est : `/content/drive/MyDrive/TP_GLIA/classifier_rf.pkl` . Pour cela nous allons charger le classifieur à l'aide de <code> joblib.load </code> ([documentation](https://joblib.readthedocs.io/en/latest/generated/joblib.load.html))\n",
        "\n",
        "2. Nous allons utiliser les métriques (23) associées à des développeurs, celles-ci sont stockées dans le dossier <code> /content/drive/MyDrive/TP_GLIA/metrics_by_dev/ </code>. Chaque fichier de ce dossier est nommé en fonction de la version sur laquelle les métriques ont été extraites. Nous allons donc itérer sur la **liste de ces fichiers ordonnée par ordre alphanumérique**. \n",
        "\n",
        "4. Pour chaque fichier CSV, l'ouvrir avec Pandas en tant que Dataframe via la fonction : <code> pd.read_csv </code> ([documentation](https://pandas.pydata.org/pandas-docs/stable/reference/api/pandas.read_csv.html))\n",
        "\n",
        "3. Ces métriques sont à l'état \"brute\" dans les fichiers, c'est-à-dire qu'elles ont des échelles et des unités différentes. Le classifieur Random Forest que nous avons entrainé lui, ne travaille qu'avec des variables comprises dans [-1;1]. Ici, il va donc falloir faire une mise à l'échelle des variables à l'aide d'un scaler de Scikit-Learn : <code> MinMaxScaler </code> ([documentation](https://scikit-learn.org/stable/modules/generated/sklearn.preprocessing.MinMaxScaler.html#sklearn.preprocessing.MinMaxScaler)). De plus, afin de réduire les écarts de valeurs sur certaines variables nous allons appliquer un logarithme sur 11 de ces dernières à l'aide de la fonction  <code> log_dataframe </code> de ce Notebook.\n",
        "\n",
        "5. Prédire ensuite la catégorie des développeurs (`NSSE` (*Non-Senior Software Developper*) ou `SSE`(*Senior Software Developper*)) puis la stocker dans le dictionnaire <code> dict_classified_dev </code>. Faire un petit affichage à l'aide print pour visualiser l'évolution du nombre de dévoloppeurs dans chaque catégorie au fur et à mesure des versions.  \n"
      ]
    },
    {
      "cell_type": "code",
      "execution_count": 7,
      "metadata": {
        "id": "-3GlHJpJLIa1",
        "colab": {
          "base_uri": "https://localhost:8080/"
        },
        "outputId": "52f4d2dc-5931-4ced-ebfc-a76b73e09a3e"
      },
      "outputs": [
        {
          "output_type": "stream",
          "name": "stderr",
          "text": [
            "/usr/local/lib/python3.7/dist-packages/sklearn/base.py:338: UserWarning: Trying to unpickle estimator DecisionTreeClassifier from version 1.0.1 when using version 1.0.2. This might lead to breaking code or invalid results. Use at your own risk. For more info please refer to:\n",
            "https://scikit-learn.org/stable/modules/model_persistence.html#security-maintainability-limitations\n",
            "  UserWarning,\n",
            "/usr/local/lib/python3.7/dist-packages/sklearn/base.py:338: UserWarning: Trying to unpickle estimator RandomForestClassifier from version 1.0.1 when using version 1.0.2. This might lead to breaking code or invalid results. Use at your own risk. For more info please refer to:\n",
            "https://scikit-learn.org/stable/modules/model_persistence.html#security-maintainability-limitations\n",
            "  UserWarning,\n"
          ]
        },
        {
          "output_type": "stream",
          "name": "stdout",
          "text": [
            "-*-*-*-*-*-*-\n",
            "['broadleaf-1.6.0-GA', 'broadleaf-2.0.0-GA', 'broadleaf-2.1.0-GA', 'broadleaf-2.2.0-GA', 'broadleaf-2.3.0-GA', 'broadleaf-2.4.0-GA', 'broadleaf-3.0.0-GA', 'broadleaf-3.1.0-GA', 'broadleaf-4.0.0-GA', 'broadleaf-4.1.0-GA', 'broadleaf-5.0.0-GA', 'broadleaf-5.1.0-GA', 'broadleaf-5.2.0-GA', 'broadleaf-6.0.0-GA', 'broadleaf-6.1.0-GA']\n",
            "{'SSE': [1, 6, 6, 7, 7, 7, 7, 7, 7, 8, 11, 12, 12, 14, 15], 'NSSE': [3, 2, 2, 3, 3, 3, 4, 9, 21, 24, 21, 23, 29, 37, 41]}\n"
          ]
        }
      ],
      "source": [
        "dict_classified_dev = {'SSE' : [], 'NSSE' : []}\n",
        "list_versions = []\n",
        "\n",
        "rf = joblib.load(\"/content/drive/MyDrive/TP_GLIA/classifier_rf.pkl\")\n",
        "\n",
        "#Placer la suite du code ici\n",
        "metrics = sorted(os.listdir(\"/content/drive/MyDrive/TP_GLIA/metrics_by_dev/\"))\n",
        "\n",
        "scaler = MinMaxScaler(feature_range=(-1, 1))\n",
        "\n",
        "for m in metrics:\n",
        "  df = pd.read_csv(\"/content/drive/MyDrive/TP_GLIA/metrics_by_dev/\" + str(m))\n",
        "  delete_unused_columns(df)\n",
        "  log_dataframe(df)\n",
        "\n",
        "  df = scaler.fit_transform(df)\n",
        "\n",
        "  result = rf.predict(df)\n",
        "  list_versions.append(m.split(\"_\")[1])\n",
        "  dict_classified_dev['SSE'].append(result.tolist().count('SSE'))\n",
        "  dict_classified_dev['NSSE'].append(result.tolist().count('NSSE'))\n",
        "  # print(str(m.split(\"_\")[1]) + \" : {SSE : \" + str(result.tolist().count('SSE')) + \", NSSE : \" + str(result.tolist().count('NSSE')) + \"}\" )\n",
        "\n",
        "\n",
        "print(\"-*-*-*-*-*-*-\")\n",
        "print(list_versions)\n",
        "print(dict_classified_dev)\n"
      ]
    },
    {
      "cell_type": "markdown",
      "source": [
        "---"
      ],
      "metadata": {
        "id": "SRYonIa09ry_"
      }
    },
    {
      "cell_type": "markdown",
      "metadata": {
        "id": "5HpoYvxPDeVo"
      },
      "source": [
        "## 3) Extraction du nombre total de lignes de code depuis les fichiers CSV 📂\n",
        "\n",
        "Nous avons classé les développeurs par catégorie pour chaque version de BroadleafCommerce. \n",
        "L'étape suivante est d'extraire le nombre total de ligne de code pour chaque version de BroadleafCommerce. Pour cela chacun des fichiers triés par ordre alphanumérique croissant doit être ouvert avec Pandas. Vous devez ensuite faire la somme de la colonne \"`loc`\" (*Lines Of cCodes*) des fichiers et l'ajouter à la liste <code> loc_by_versions </code>."
      ]
    },
    {
      "cell_type": "code",
      "execution_count": 8,
      "metadata": {
        "id": "6kndzp-CDeVp"
      },
      "outputs": [],
      "source": [
        "#Liste où ajouter la somme des loc pour chaque version\n",
        "loc_by_versions = []\n",
        "\n",
        "files = sorted(os.listdir(\"/content/drive/MyDrive/TP_GLIA/ck_metrics/\"))\n",
        "files.remove('ck.jar')\n",
        "for f in files:\n",
        "  df = pd.read_csv(\"/content/drive/MyDrive/TP_GLIA/ck_metrics/\" + str(f))\n",
        "  count = 0\n",
        "  for val in df['loc']:\n",
        "    count += val \n",
        "\n",
        "  loc_by_versions.append(count)\n",
        "  #print(str(f) + \" : \" + str(count))"
      ]
    },
    {
      "cell_type": "markdown",
      "source": [
        "\n",
        "\n",
        "---\n",
        "\n"
      ],
      "metadata": {
        "id": "n5Epn8lm93Ml"
      }
    },
    {
      "cell_type": "markdown",
      "metadata": {
        "id": "ix7N_HWIDeVq"
      },
      "source": [
        "## 4) Tracé du graphique du nombre de développeurs SSE et nombre de lignes de code par version de BroadleafCommerce 〽\n",
        "\n",
        "L'objectif ici est de tracer à l'aide du package matplotlib ([documentation](https://matplotlib.org/stable/contents.html)) un graphique à 3 axes comme montré dans la figure d'exemple ci-dessous. \n",
        "\n",
        "![Évolution du nombre de développeurs SSE vs LOC](https://github.com/qperez/TP-Master-MTP-GL-IA4GL/raw/main/plot_sse_vs_loc_by_version.png)\n",
        "\n",
        "En traçant cette figure vous devriez observer une particularité commune aux deux courbes, faite part de cette observation dans la case textutelle ci-desssous. "
      ]
    },
    {
      "cell_type": "markdown",
      "metadata": {
        "id": "7OfBvW7rDeVs"
      },
      "source": [
        "**▶ 🔎 Observations :**"
      ]
    },
    {
      "cell_type": "code",
      "execution_count": 9,
      "metadata": {
        "id": "tU9v7Yv6DeVs",
        "colab": {
          "base_uri": "https://localhost:8080/",
          "height": 350
        },
        "outputId": "234271ca-f7e9-4fa2-85c2-6f0ac683072e"
      },
      "outputs": [
        {
          "output_type": "display_data",
          "data": {
            "text/plain": [
              "<Figure size 432x288 with 2 Axes>"
            ],
            "image/png": "[encoded data removed]"
          },
          "metadata": {
            "needs_background": "light"
          }
        }
      ],
      "source": [
        "#Création de l'objet figure et axis\n",
        "fig, ax1 = plt.subplots()\n",
        "\n",
        "plt.xticks(rotation=90, ha='right')\n",
        "ax1.plot(list_versions, dict_classified_dev['SSE'])\n",
        "ax1.set_ylabel(\"SSE\")\n",
        "\n",
        "#Création d'un deuxième axe Y \n",
        "ax2 = ax1.twinx()\n",
        "ax2.plot(loc_by_versions, color='green', label='Lines of Code')\n",
        "ax2.set_ylabel(\"LOC\")\n",
        "\n",
        "plt.show()"
      ]
    },
    {
      "cell_type": "markdown",
      "source": [
        "---"
      ],
      "metadata": {
        "id": "hxIDPfw49zdY"
      }
    },
    {
      "cell_type": "markdown",
      "metadata": {
        "id": "9KPg85CoDeVt"
      },
      "source": [
        "## 5) Création d'un estimateur du nombre de développeurs expérimentés en fonction de la taille du projet (LoC) 🧙\n",
        "\n",
        "\n",
        "Nous avons maintenant l'ensemble des données permettant de créer un estimateur du nombre de développeurs expérimentés en fonction du nombre de ligne de code du projet. \n",
        "Pour ce faire, nous allons mettre en oeuvre un estimateur basé sur une régression linéaire : <code> LinearRegression </code> ([documentation](https://scikit-learn.org/stable/modules/generated/sklearn.linear_model.LinearRegression.html)). Cet estimateur utilise la méthode des moindres carrés afin d'ajuster une droite d'équation $ax+b+e$ où $a$ est le coefficient directeur, $b$ l'ordonnée à l'origine et $e$ l'erreur liée aux moindres carrés. \n",
        "\n",
        "Pour cela nous allons : \n",
        "1. Créer un objet LinearRegression et l'ajuster sur <code> X </code> et <code> y </code> à l'aide de la méthode <code> fit </code>.\n",
        "2. Afficher le coefficient de régression sur <code> X </code> et <code> y </code>.\n",
        "3. Déterminer le coefficient de détermination linéaire avec la fonction <code> r2_score </code> ([documentation](https://scikit-learn.org/stable/modules/model_evaluation.html#r2-score)) qui mesure l'ajustement entre les prédiction du classifieur sur les données <code> X </code> par rapport aux sorties <code> y </code>, plus il proche de 1 meilleures sont les prédictions. \n",
        "4. Prédire le nombre de développeurs expérimentés SSE pour 150000, 180000 et 200000 lignes de code. \n",
        "5. Tracer un graphique semblable à la figure d'exemple ci-desssous :\n",
        "\n",
        "![](https://github.com/qperez/TP-Master-MTP-GL-IA4GL/raw/main/plot_sse_loc_prediction.png)\n",
        "\n",
        "Les points noirs sont les données déjà connues à savoir le nombre de développeurs expérimentés et le nombre de lignes de code pour chaque version. Les point rouges correspondent aux trois valeurs prédites pour 150000, 180000 et 200000 lignes. La droite bleu est la droite de régression. Pour tracer ce graphique vous pouvez vous inspirer de cet [exemple Scikit-Learn ](https://scikit-learn.org/stable/auto_examples/linear_model/plot_ols.html#sphx-glr-auto-examples-linear-model-plot-ols-py). \n",
        "\n",
        "Voilà vous êtes maintenant capable de prédire vos besoins en ressources humaines en fonction de la taille de votre projet :) ! "
      ]
    },
    {
      "cell_type": "code",
      "execution_count": 10,
      "metadata": {
        "id": "SdOr_YX4DeVt",
        "colab": {
          "base_uri": "https://localhost:8080/",
          "height": 314
        },
        "outputId": "9e4ab7e9-ceed-4fea-d002-4d5f08fdff86"
      },
      "outputs": [
        {
          "output_type": "stream",
          "name": "stdout",
          "text": [
            "Score : 0.8584605562653664\n",
            "Coef : 0.8351241152530238\n"
          ]
        },
        {
          "output_type": "display_data",
          "data": {
            "text/plain": [
              "<Figure size 432x288 with 1 Axes>"
            ],
            "image/png": "[encoded data removed]"
          },
          "metadata": {
            "needs_background": "light"
          }
        }
      ],
      "source": [
        "from sklearn.metrics import r2_score\n",
        "\n",
        "#Valeurs X et y à utiliser pour créer et évaluer le régresseur\n",
        "X = np.array(loc_by_versions).reshape(-1,1)\n",
        "y = np.array(dict_classified_dev[\"SSE\"])\n",
        "\n",
        "regression = LinearRegression().fit(X, y)\n",
        "result = regression.predict(X) \n",
        "print(\"Score : \" + str(regression.score(X, y)))\n",
        "\n",
        "coef = r2_score(result, y)\n",
        "print(\"Coef : \" + str(coef)) \n",
        "\n",
        "X_predict = np.array([150000, 180000, 200000]).reshape(-1, 1)\n",
        "Y_predict = regression.predict(X_predict)\n",
        "\n",
        "values = [regression.coef_ * i + regression.intercept_ for i in loc_by_versions]\n",
        "\n",
        "\n",
        "plt.scatter(X, y, color='black')\n",
        "plt.scatter(X_predict, Y_predict, color='red')\n",
        "plt.plot(loc_by_versions, values, color='blue')\n",
        "plt.xlabel(\"SSE\")\n",
        "plt.ylabel(\"LoC\")\n",
        "\n",
        "plt.show()"
      ]
    },
    {
      "cell_type": "markdown",
      "source": [
        "---"
      ],
      "metadata": {
        "id": "c_0K1ILH9vvv"
      }
    },
    {
      "cell_type": "markdown",
      "source": [
        "## 6) Matrice de corrélation sur une version du projet 🔢\n",
        "\n",
        "Nous allons étudier les potentielles corrélations entre variables de qualité pour une version donnée du projet. En effet, des corrélations positives ou négatives pourraient indiquer les facteurs qui font croitre ou décroitre la qualité du projet. Cela peut par la suite aider à la compréhension des facteurs de réussite/échec d'une version, de la complexité de sa maintenance ou encore des leviers (nombre de lignes de code, couplages, etc) sur lesquelles travailler pour améliorer la qualité du projet.\n",
        "\n",
        "Pour étudier ces corrélations, nous allons utiliser la version `broadleaf-6.1.0-GA` (fichier `class_broadleaf-6.1.0-GA.csv`) et la liste de métriques suivantes : \n",
        "\n",
        "* `cbo` : Coupling Between Objects ➡ Mesure la dépendance d'une classe à d'autres classes du projet en utilisant les déclarations d'attributs, les types de retour de méthode, les déclarations de variables, etc.\n",
        "* `loc` : Lines Of Code ➡ Mesure le nombre de lignes de code de chaque fichier\n",
        "* `wmc` : Weight Method Class ou mesure de McCabe ➡ Mesure la complexité cyclomatique (nombre de chemins d'exécution possibles) dans les méthodes.\n",
        "* `dit` : Depth Inheritance Tree ➡ Mesure la profondeur d'héritage des classes.\n",
        "\n",
        "Vous allez devoir : \n",
        "\n",
        "*   Ouvrir le fichier CSV avec pandas\n",
        "*   Extraire un sous ensemble du dataset pour ne conserver que `'cbo','wmc','loc','dit'`\n",
        "*   Créer une matrice de corrélation à partir de l'API de pandas et plus particulièrement de la méthode `corr(...)` ([documentation](https://pandas.pydata.org/docs/reference/api/pandas.DataFrame.corr.html)). **/!\\ La méthode de corrélation à utiliser est Spearman**.\n",
        "*   Plotter la heatmap montrant les corrélations entre les variables avec la librairie Seaborn et la méthode `heatmap(...)` ([documentation](https://seaborn.pydata.org/generated/seaborn.heatmap.html)). N'oubliez pas de faire figurer les coefficients sur votre heatmap.\n",
        "\n",
        "Donner votre avis sur cette matrice de corrélation. Quel effet semble avoir la taille des fichiers les autres variables ? Que peut-on en déduire ? Répondez dans la case observations ci-dessous."
      ],
      "metadata": {
        "id": "sIegM-tiLLDU"
      }
    },
    {
      "cell_type": "markdown",
      "source": [
        "**▶ 🔎 Observations :**\n",
        "\n",
        "WMC et LOC sont très corélés, de manière assez logique plus on a de code, plus on aura de chemins d'exécution possibles. \n",
        "\n",
        "La profondeur d'héritage n'est corélée a rien.\n",
        "\n",
        "La dépendance des classes entre elles augmente avec le nombre de lignes de code."
      ],
      "metadata": {
        "id": "hF183CzP_s4M"
      }
    },
    {
      "cell_type": "code",
      "source": [
        "#Votre code ici\n",
        "df = pd.read_csv(\"/content/drive/MyDrive/TP_GLIA/ck_metrics/class_broadleaf-6.1.0-GA.csv\" )\n",
        "\n",
        "df = df[['cbo', 'wmc','loc', 'dit']]\n",
        "# df.corr(method='spearman')\n",
        "\n",
        "sns.heatmap(df.corr(method='spearman'))"
      ],
      "metadata": {
        "id": "jmTi04NJLBFB",
        "colab": {
          "base_uri": "https://localhost:8080/",
          "height": 286
        },
        "outputId": "e77a0be4-752a-411b-9933-7bd9557d151e"
      },
      "execution_count": 11,
      "outputs": [
        {
          "output_type": "execute_result",
          "data": {
            "text/plain": [
              "<matplotlib.axes._subplots.AxesSubplot at 0x7f08618107d0>"
            ]
          },
          "metadata": {},
          "execution_count": 11
        },
        {
          "output_type": "display_data",
          "data": {
            "text/plain": [
              "<Figure size 432x288 with 2 Axes>"
            ],
            "image/png": "[encoded data removed]"
          },
          "metadata": {
            "needs_background": "light"
          }
        }
      ]
    },
    {
      "cell_type": "markdown",
      "source": [
        "## 7) Étude de la relation entre le fait d'être développeur expérimenté et de développer plusieurs projets sur Github ❓\n",
        "\n",
        "Une question que nous pouvons nous poser concernant des développeurs expérimentés est: \n",
        "\n",
        "> Existe-t-il une relation ou non entre le fait de contribuer à plusieurs projets et le fait d'être expérimenté ?\n",
        "\n",
        "Cette question pourrait se poser par exemple en entreprise pour déterminer si un développeur a un intérêt à travailler sur différents projets afin de gagner en expérience d'un point de vue quantitatif, ou si les développeurs ayant formation particulière sont de \"meilleurs développeurs\". \n",
        "\n",
        "Pour répondre à cette question nous allons utiliser un outil mathématique qui s'appelle le test du [khi-deux](https://fr.wikipedia.org/wiki/Loi_du_%CF%87%C2%B2). Ce test va permettre de tester la relation entre 2 variables catégorielles (ici de le fait d'être expérimenté ou non et de participer ou non à plusieurs projets sur Github). \n",
        "\n",
        "Pour cela il faut premièrement formuler deux hypothèses statistiques :\n",
        "\n",
        "*   Une hypothèse $H_0$ dite \"hypothèse nulle\" ➡ Formalise le fait que les variables sont indépendantes  \n",
        "\n",
        "> $H_0$ : Il n'y a pas de relation entre le fait d'être expérimenté ou non et de participer ou non à plusieurs projets sur Github.\n",
        "\n",
        "\n",
        "*   Une hypothèse $H_1$ dite \"hypothèse alternative\" ➡ Formalise le fait que ces variables sont dépendantes l'une de l'autre.\n",
        "\n",
        "> $H_1$ : Il y a une relation entre le fait d'être expérimenté ou non et de participer ou non à plusieurs projets sur Github.\n",
        "\n",
        "Puis calculer le khi-deux et sa $p$-value. Ces hypothèses vont être acceptées ou rejetées en fonction d'un seuil de risque $\\alpha$ (généralement 0.05) et le $p$-value calculée par lors du test du khi-deux. \n",
        "\n",
        "*   Si $p$ < $\\alpha$ => Rejet de l'hypothèse $H_0$ et acceptation de $H_1$\n",
        "*   Sinon rejet de l'hypothèse $H_1$ et acceptation de $H_0$\n",
        "\n",
        "Ainsi pour réaliser ce test il faut: \n",
        "\n",
        "*   Trouver les développeurs appraissant plusieurs fois dans le fichier `/content/drive/MyDrive/TP_GLIA/dataset_dev_anonymized.csv`. Un développeur \"dupliqué\" est un développeur ayant même nom (colonne`'name_without_spaces'`) et même statut (colonne `'job'`) dans le dataset. Pour cela aidez-vous de la méthode `duplicated(...)` de pandas ([documentation](https://pandas.pydata.org/docs/reference/api/pandas.DataFrame.duplicated.html)). Cette méthode vous permettra de marquer chaque développeur comme dupliqué ou non en rangeant cette valeur dans une nouvelle colonne du dataframe nommée `'multi_project'`.\n",
        "*   Ne conserver que les colonnes `'name_without_spaces'`, `'multi_project'` et `'job'`\n",
        "*   Remplacer l'ensemble des étiquettes `'SA'` (*Software Architect*) de la colonne `'job'` par `'SSE'` (*Senior Software Engineer*).\n",
        "* Remplacer toutes les étiquettes différentes de  `'SSE'` (*Senior Software Engineer*) par `'NSSE'` (*Non-Senior Software Engineer*)\n",
        "* Créer une table de contingence en faisant un `pivot_table(..., aggfunc=len)` sur le dataset ([documentation](https://pandas.pydata.org/docs/reference/api/pandas.DataFrame.pivot_table.html)) \n",
        "* Printer la table de contingence \n",
        "* Calculer le khi-deux à l'aide la méthode `chi2_contingency(...)` ([documentation](https://docs.scipy.org/doc/scipy/reference/generated/scipy.stats.chi2_contingency.html)) de la bibliothèque SciPy \n",
        "* Printer les valeur calculées par la méthode puis répondez dans la case observations plus bas quelle hypothèse nous pouvons accepter avec un risque $\\alpha = 0.05$. Donnez également la valeur de $p$-value\n",
        "\n"
      ],
      "metadata": {
        "id": "TrWrmKm5AOcy"
      }
    },
    {
      "cell_type": "markdown",
      "source": [
        "**▶ 🔎 Observations :**"
      ],
      "metadata": {
        "id": "E4Lb3z1HDo0H"
      }
    },
    {
      "cell_type": "code",
      "source": [
        "from scipy.stats import chi2_contingency\n",
        "#Votre code ici\n",
        "df = pd.read_csv(\"/content/drive/MyDrive/TP_GLIA/dataset_dev_anonymized.csv\")\n",
        "\n",
        "duplicated = df.duplicated(subset=['name_without_spaces', 'job'])\n",
        "\n",
        "df['multi_project'] = 'Unknown'\n",
        "for x in range(len(duplicated)):\n",
        "  df['multi_project'][x] = str(duplicated[x])\n",
        "\n",
        "df = df[['name_without_spaces', 'multi_project','job']]\n",
        "\n",
        "for x in range(len(df)):\n",
        "  if str(df['job'][x]) == 'SSE':\n",
        "    df['job'][x] = 'NSSE'\n",
        "  if str(df['job'][x]) == 'SA':\n",
        "    df['job'][x] = 'SSE'\n",
        "print(df.head())\n",
        "\n",
        "\n",
        "table = pd.pivot_table(df, index='name_without_spaces', values=['job', 'multi_project'], aggfunc=len)\n",
        "print(table)  \n",
        "\n",
        "chi2_contingency(table)\n"
      ],
      "metadata": {
        "id": "dVRD8hQRAoSt",
        "colab": {
          "base_uri": "https://localhost:8080/"
        },
        "outputId": "b56d5a7b-30d4-479a-fc8d-47548c4ad15e"
      },
      "execution_count": 12,
      "outputs": [
        {
          "output_type": "stream",
          "name": "stderr",
          "text": [
            "/usr/local/lib/python3.7/dist-packages/ipykernel_launcher.py:9: SettingWithCopyWarning: \n",
            "A value is trying to be set on a copy of a slice from a DataFrame\n",
            "\n",
            "See the caveats in the documentation: https://pandas.pydata.org/pandas-docs/stable/user_guide/indexing.html#returning-a-view-versus-a-copy\n",
            "  if __name__ == '__main__':\n"
          ]
        },
        {
          "output_type": "stream",
          "name": "stdout",
          "text": [
            "                name_without_spaces multi_project     job\n",
            "0  390bddf403bec997f0c159d66266ffea         False    NSSE\n",
            "1  e954e1629583314149ec4a9a61274b59         False  UNKNOW\n",
            "2  40c4cd8c4b63fe464765241b592f0afb         False  UNKNOW\n",
            "3  8146b404eabe18ed1fb9b35ba648dde8         False  UNKNOW\n",
            "4  514ea5b357ada85714d65e62db3857ef         False     BOT\n",
            "                                  job  multi_project\n",
            "name_without_spaces                                 \n",
            "000709f00897ee74f28c735253b04fe1    1              1\n",
            "00baabf2a82c66b1e8b50cd22786ab39    4              4\n",
            "0101ef0d99a2d30c309bfee8279cd8b6    1              1\n",
            "0190f8b7b6675ab631d782d3ef40d8a1    1              1\n",
            "01fac787f082a85b71116e2ee3dc88dc    2              2\n",
            "...                               ...            ...\n",
            "fe85280df9e0a9af6613edfae033ae85    1              1\n",
            "fed32c4dfe682cbf87f07455218ea7bb    1              1\n",
            "ff7e7de08b0b85902a801a515ad6cce5    2              2\n",
            "ffc3cfe65c7fe43a939eedde7fd3ff63    1              1\n",
            "ffc77e54131395e2bff3f6a7c8cd4ad0    3              3\n",
            "\n",
            "[599 rows x 2 columns]\n"
          ]
        },
        {
          "output_type": "stream",
          "name": "stderr",
          "text": [
            "/usr/local/lib/python3.7/dist-packages/ipykernel_launcher.py:15: SettingWithCopyWarning: \n",
            "A value is trying to be set on a copy of a slice from a DataFrame\n",
            "\n",
            "See the caveats in the documentation: https://pandas.pydata.org/pandas-docs/stable/user_guide/indexing.html#returning-a-view-versus-a-copy\n",
            "  from ipykernel import kernelapp as app\n",
            "/usr/local/lib/python3.7/dist-packages/ipykernel_launcher.py:17: SettingWithCopyWarning: \n",
            "A value is trying to be set on a copy of a slice from a DataFrame\n",
            "\n",
            "See the caveats in the documentation: https://pandas.pydata.org/pandas-docs/stable/user_guide/indexing.html#returning-a-view-versus-a-copy\n"
          ]
        },
        {
          "output_type": "execute_result",
          "data": {
            "text/plain": [
              "(0.0, 1.0, 598, array([[1., 1.],\n",
              "        [4., 4.],\n",
              "        [1., 1.],\n",
              "        ...,\n",
              "        [2., 2.],\n",
              "        [1., 1.],\n",
              "        [3., 3.]]))"
            ]
          },
          "metadata": {},
          "execution_count": 12
        }
      ]
    },
    {
      "cell_type": "markdown",
      "metadata": {
        "id": "9_pl6KJxDeVv"
      },
      "source": [
        "---\n",
        "\n",
        "## Bonus (Pas dans le TP)\n",
        "\n",
        "Jusque là nous avons utilisé un classifieur Random Forest déjà entrainé puis sauvegardé au format Pickle (sérialisation). Dans le bloc de code ci-dessous vous trouverez le code qui a permis la création de ce classifieur. \n",
        "\n",
        "Ce code est découpé en plusieurs parties:\n",
        "\n",
        "* Ouverture du CSV contenant les développeurs et leurs métriques avec Pandas\n",
        "* Suppresssion des colonnes non utilisées pour la classification\n",
        "* Transformation des variables (logarithme et mise à l'échelle)\n",
        "* Création de l'objet permettant de générer des données synthétiques. Les données synthétiques permettent de contrebalancer le fait que nous n'ayons que peu de données dans la classe des développeurs expérimentés. \n",
        "* Création du classifieur ici un random forest\n",
        "* Évaluation du classifieur via 4-fold stratifié ([documentation](https://scikit-learn.org/stable/modules/generated/sklearn.model_selection.StratifiedKFold.html?highlight=stratifiedkfold#sklearn.model_selection.StratifiedKFold))\n",
        "* Génération de données synthétiques sur l'ensemble du jeu de données puis entrainement du modèle\n",
        "* Sauvegarde du modèle au format pickle\n",
        "\n",
        "Vous pouvez modifier plusieurs choses qui vont influer sur la qualité de votre classifieur :  \n",
        "- Les variables utilisées. Nous utilisons ici 23 métriques. Vous pouvez en supprimer dans le dataframe Pandas et constater l'effet. \n",
        "- Le scaler utilisé, ici un MinMax pour mettre les variables dans l'intervalle [-1,1] ([documentation sur les types de scaler](https://www.datacorner.fr/feature-scaling/))\n",
        "- Le type de classifieur utilisé (ici Random Forest) et ses paramètres. Vous pouvez choisir un autre classifieur parmis ceux fournis par le package Scikit Learn ([documentation](https://scikit-learn.org/stable/auto_examples/classification/plot_classifier_comparison.html#sphx-glr-auto-examples-classification-plot-classifier-comparison-py))\n",
        "- L'utilisation ou non de la génération de données synthétiques. \n",
        "\n",
        "\n",
        "\n",
        " "
      ]
    },
    {
      "cell_type": "markdown",
      "metadata": {
        "pycharm": {
          "name": "#%% md\n"
        },
        "id": "G_gVmpihDeVv"
      },
      "source": [
        "Returns labels (y)"
      ]
    },
    {
      "cell_type": "code",
      "execution_count": null,
      "metadata": {
        "pycharm": {
          "name": "#%%\n"
        },
        "id": "cFm8-7wpDeVw"
      },
      "outputs": [],
      "source": [
        "def get_labels(df):\n",
        "    df.loc[df['job'] == \"SA\", 'job'] = \"SSE\"\n",
        "    df.loc[df['job'] != \"SSE\", 'job'] = \"NSSE\"\n",
        "\n",
        "    return df[\"job\"]"
      ]
    },
    {
      "cell_type": "markdown",
      "metadata": {
        "pycharm": {
          "name": "#%% md\n"
        },
        "id": "hW9fTu4bDeVw"
      },
      "source": [
        "Mise à l'échelle des données à l'aide du scaler donné en input"
      ]
    },
    {
      "cell_type": "code",
      "execution_count": null,
      "metadata": {
        "pycharm": {
          "name": "#%%\n"
        },
        "id": "Yq5udrFeDeVx"
      },
      "outputs": [],
      "source": [
        "def scaling(scaler, X):\n",
        "    return scaler.fit_transform(X)"
      ]
    },
    {
      "cell_type": "markdown",
      "metadata": {
        "pycharm": {
          "name": "#%% md\n"
        },
        "id": "2R9D48NfDeVx"
      },
      "source": [
        "Création de données synthètiques avec la méthode SMOTE"
      ]
    },
    {
      "cell_type": "code",
      "execution_count": null,
      "metadata": {
        "pycharm": {
          "name": "#%%\n"
        },
        "id": "SfYot5VNDeVz"
      },
      "outputs": [],
      "source": [
        "def create_synthetic_data(smote, X_scaled, y):\n",
        "    return smote.fit_resample(X_scaled, y)"
      ]
    },
    {
      "cell_type": "markdown",
      "metadata": {
        "pycharm": {
          "name": "#%% md\n"
        },
        "id": "9r6IR-dfDeVz"
      },
      "source": [
        "Entrainement du classifieur sur données synthétiques et affichage d'une rapport de classification"
      ]
    },
    {
      "cell_type": "code",
      "execution_count": null,
      "metadata": {
        "pycharm": {
          "name": "#%%\n"
        },
        "id": "N2Q28HhGDeV0"
      },
      "outputs": [],
      "source": [
        "def train_and_classification_report(classifier, X_synthetic, y_synthetic, X_scaled, y):\n",
        "    classifier.fit(X_synthetic, y_synthetic)\n",
        "    print(classification_report(y, classifier.predict(X_scaled)))"
      ]
    },
    {
      "cell_type": "code",
      "execution_count": null,
      "metadata": {
        "pycharm": {
          "name": "#%%\n"
        },
        "id": "wFUXxBnODeV0"
      },
      "outputs": [],
      "source": [
        "def stratifiedKFold_scoring(classifier, X_scaled, y, smote = None):\n",
        "    kf = StratifiedKFold(n_splits=4, shuffle=False)#, random_state=0)\n",
        "    print(\"===> Start kfold <===\")\n",
        "    scores = {\"F1\": {\"values\" : []}, \"Recall\": {\"values\" : []},\n",
        "              \"Precision\": {\"values\" : []}, \"Balanced\\nAccuracy\" : {\"values\" : []}}\n",
        "\n",
        "    for fold, (train_index, test_index) in enumerate(kf.split(X_scaled, y), 1):\n",
        "        print(\"=> Fold : \",fold)\n",
        "        #print(\"TRAIN:\", train_index, \"TEST:\", test_index)\n",
        "        X_train = X_scaled[train_index]\n",
        "        y_train = y[train_index]\n",
        "        X_test = X_scaled[test_index]\n",
        "        y_test = y[test_index]\n",
        "\n",
        "        if smote is not None:\n",
        "            X_train_synthetic, y_train_synthetic = smote.fit_resample(X_train, y_train)\n",
        "            classifier.fit(X_train_synthetic, y_train_synthetic)\n",
        "        else:\n",
        "            classifier.fit(X_train, y_train)\n",
        "        y_pred = classifier.predict(X_test)\n",
        "\n",
        "        f1 = f1_score(y_test, y_pred, pos_label=\"SSE\")\n",
        "        recall = recall_score(y_test, y_pred, pos_label=\"SSE\")\n",
        "        precision = precision_score(y_test, y_pred, pos_label=\"SSE\")\n",
        "        accuracy = balanced_accuracy_score(y_test, y_pred)\n",
        "\n",
        "        scores[\"F1\"][\"values\"].append(f1)\n",
        "        scores[\"Recall\"][\"values\"].append(recall)\n",
        "        scores[\"Precision\"][\"values\"].append(precision)\n",
        "        scores[\"Balanced\\nAccuracy\"][\"values\"].append(accuracy)\n",
        "\n",
        "    for key in scores:\n",
        "        scores[key][\"values\"] = np.array(scores[key][\"values\"])\n",
        "        scores[key][\"mean\"] = np.mean(scores[key][\"values\"])\n",
        "        scores[key][\"std\"] = np.std(scores[key][\"values\"])\n",
        "        scores[key][\"ci95\"] = np.std(scores[key][\"values\"]) * 2\n",
        "\n",
        "        print(key, \"mean :%0.4f\" % scores[key][\"mean\"])\n",
        "        print(key, \"std : %0.4f\" % scores[key][\"std\"])\n",
        "        print(key, \"95%% Confidence Interval +/- %0.4f\" % (scores[key][\"ci95\"]))\n",
        "        print()\n",
        "    return scores"
      ]
    },
    {
      "cell_type": "code",
      "execution_count": null,
      "metadata": {
        "pycharm": {
          "name": "#%%\n"
        },
        "id": "IYY26QtUDeV1",
        "outputId": "4c4634e7-c951-4a4b-8fb9-1cbcf4ab9f77"
      },
      "outputs": [
        {
          "name": "stdout",
          "output_type": "stream",
          "text": [
            "===> Start kfold <===\n",
            "=> Fold :  1\n",
            "=> Fold :  2\n",
            "=> Fold :  3\n",
            "=> Fold :  4\n",
            "F1 mean :0.7689\n",
            "F1 std : 0.0263\n",
            "F1 95% Confidence Interval +/- 0.0525\n",
            "\n",
            "Recall mean :0.7538\n",
            "Recall std : 0.0800\n",
            "Recall 95% Confidence Interval +/- 0.1601\n",
            "\n",
            "Precision mean :0.7937\n",
            "Precision std : 0.0414\n",
            "Precision 95% Confidence Interval +/- 0.0828\n",
            "\n",
            "Balanced\n",
            "Accuracy mean :0.8603\n",
            "Balanced\n",
            "Accuracy std : 0.0343\n",
            "Balanced\n",
            "Accuracy 95% Confidence Interval +/- 0.0687\n",
            "\n"
          ]
        }
      ],
      "source": [
        "df = pd.read_csv(\"/content/drive/MyDrive/TP_GLIA/dataset_dev_anonymized.csv\")\n",
        "y = get_labels(df)\n",
        "\n",
        "delete_unused_columns(df)\n",
        "\n",
        "log_dataframe(df)\n",
        "scaler = MinMaxScaler(feature_range=(-1,1))\n",
        "\n",
        "X = df\n",
        "X_scaled = scaling(scaler, X)\n",
        "\n",
        "#Instanciation du générateur de données synthétiques à l'aide de la méthode k-means SMOTE\n",
        "smote = KMeansSMOTE(sampling_strategy='minority', random_state=9090)\n",
        "#Création du classifieur RF\n",
        "classifier = RandomForestClassifier(criterion='gini', max_depth=None, max_features='log2', n_estimators=75, random_state=0)\n",
        "\n",
        "#Évaluation du classifieur à l'aide d'un 4-fold stratifié\n",
        "stratifiedKFold_scoring(classifier, X_scaled, y, smote = smote)\n",
        "\n",
        "#Génération de données synthétiques sur l'ensemble des données\n",
        "X_synthetic, y_synthetic = smote.fit_resample(X_scaled, y)\n",
        "#Entrainement du classifieur sur les données synthétiques\n",
        "classifier.fit(X_synthetic, y_synthetic)\n",
        "#Sauvegarde du classifieur (sérialisation) \n",
        "pickle.dump(classifier, open(\"/content/drive/MyDrive/TP_GLIA/classifier_rf.pkl\", 'wb'))\n"
      ]
    }
  ],
  "metadata": {
    "interpreter": {
      "hash": "b972025ffaeb9fad2e6c47485e66bc7f129e1b41ab4934c78195a6e21efd40ea"
    },
    "kernelspec": {
      "display_name": "Python 3.9.7 64-bit ('venv': venv)",
      "name": "python3"
    },
    "language_info": {
      "codemirror_mode": {
        "name": "ipython",
        "version": 3
      },
      "file_extension": ".py",
      "mimetype": "text/x-python",
      "name": "python",
      "nbconvert_exporter": "python",
      "pygments_lexer": "ipython3",
      "version": "3.9.7"
    },
    "colab": {
      "provenance": []
    }
  },
  "nbformat": 4,
  "nbformat_minor": 0
}